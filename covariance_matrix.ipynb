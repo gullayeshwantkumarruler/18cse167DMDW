{
  "nbformat": 4,
  "nbformat_minor": 0,
  "metadata": {
    "colab": {
      "name": "covariance_matrix.ipynb",
      "provenance": [],
      "authorship_tag": "ABX9TyNM1SXwjUGnoXOk5S8NMG/H",
      "include_colab_link": true
    },
    "kernelspec": {
      "name": "python3",
      "display_name": "Python 3"
    }
  },
  "cells": [
    {
      "cell_type": "markdown",
      "metadata": {
        "id": "view-in-github",
        "colab_type": "text"
      },
      "source": [
        "<a href=\"https://colab.research.google.com/github/gullayeshwantkumarruler/18cse167DMDW/blob/main/covariance_matrix.ipynb\" target=\"_parent\"><img src=\"https://colab.research.google.com/assets/colab-badge.svg\" alt=\"Open In Colab\"/></a>"
      ]
    },
    {
      "cell_type": "code",
      "metadata": {
        "id": "8d4xkfkC0zby"
      },
      "source": [
        "import pandas as pd\n",
        "path=\"https://raw.githubusercontent.com/Anasuya-Sahoo/DMDW-Lab/main/student-mat.csv\"\n",
        "data=pd.read_csv(path)"
      ],
      "execution_count": 1,
      "outputs": []
    },
    {
      "cell_type": "code",
      "metadata": {
        "id": "q2bp0zFb00tq"
      },
      "source": [
        "import numpy as np\n",
        "covariance=np.cov(np.array(data.traveltime),np.array(data.studytime))"
      ],
      "execution_count": 15,
      "outputs": []
    },
    {
      "cell_type": "code",
      "metadata": {
        "colab": {
          "base_uri": "https://localhost:8080/"
        },
        "id": "104_Ijun03iZ",
        "outputId": "f291a91d-36fe-4b6a-94a5-2068ac5336dc"
      },
      "source": [
        "print(covariance)"
      ],
      "execution_count": 16,
      "outputs": [
        {
          "output_type": "stream",
          "text": [
            "[[ 0.48651288 -0.05906959]\n",
            " [-0.05906959  0.70432436]]\n"
          ],
          "name": "stdout"
        }
      ]
    },
    {
      "cell_type": "code",
      "metadata": {
        "id": "kOsKVZSE05Rq"
      },
      "source": [
        ""
      ],
      "execution_count": null,
      "outputs": []
    }
  ]
}
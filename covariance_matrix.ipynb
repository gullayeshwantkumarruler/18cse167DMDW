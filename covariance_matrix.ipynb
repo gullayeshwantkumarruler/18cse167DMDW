{
  "nbformat": 4,
  "nbformat_minor": 0,
  "metadata": {
    "colab": {
      "name": "covariance_matrix.ipynb",
      "provenance": [],
      "authorship_tag": "ABX9TyOMPQykNb4FaO85cQfZLphs",
      "include_colab_link": true
    },
    "kernelspec": {
      "name": "python3",
      "display_name": "Python 3"
    }
  },
  "cells": [
    {
      "cell_type": "markdown",
      "metadata": {
        "id": "view-in-github",
        "colab_type": "text"
      },
      "source": [
        "<a href=\"https://colab.research.google.com/github/gullayeshwantkumarruler/18cse167DMDW/blob/main/covariance_matrix.ipynb\" target=\"_parent\"><img src=\"https://colab.research.google.com/assets/colab-badge.svg\" alt=\"Open In Colab\"/></a>"
      ]
    },
    {
      "cell_type": "code",
      "metadata": {
        "id": "8d4xkfkC0zby"
      },
      "source": [
        "import pandas as pd\n",
        "path=\"https://raw.githubusercontent.com/Anasuya-Sahoo/DMDW-Lab/main/student-mat.csv\"\n",
        "data=pd.read_csv(path)"
      ],
      "execution_count": 1,
      "outputs": []
    },
    {
      "cell_type": "code",
      "metadata": {
        "id": "q2bp0zFb00tq"
      },
      "source": [
        "import numpy as np\n",
        "covariance=np.cov(data[['traveltime','studytime']])"
      ],
      "execution_count": 2,
      "outputs": []
    },
    {
      "cell_type": "code",
      "metadata": {
        "colab": {
          "base_uri": "https://localhost:8080/"
        },
        "id": "104_Ijun03iZ",
        "outputId": "63a32123-3709-4444-a7ea-05d93dd8f491"
      },
      "source": [
        "print(covariance)"
      ],
      "execution_count": 3,
      "outputs": [
        {
          "output_type": "stream",
          "text": [
            "[[ 0.   0.   0.  ...  0.   0.   0. ]\n",
            " [ 0.   0.5  0.5 ...  0.  -1.   0. ]\n",
            " [ 0.   0.5  0.5 ...  0.  -1.   0. ]\n",
            " ...\n",
            " [ 0.   0.   0.  ...  0.   0.   0. ]\n",
            " [ 0.  -1.  -1.  ...  0.   2.   0. ]\n",
            " [ 0.   0.   0.  ...  0.   0.   0. ]]\n"
          ],
          "name": "stdout"
        }
      ]
    },
    {
      "cell_type": "code",
      "metadata": {
        "id": "kOsKVZSE05Rq"
      },
      "source": [
        ""
      ],
      "execution_count": null,
      "outputs": []
    }
  ]
}
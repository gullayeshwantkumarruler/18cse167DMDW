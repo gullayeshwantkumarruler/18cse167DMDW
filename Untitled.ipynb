{
  "nbformat": 4,
  "nbformat_minor": 0,
  "metadata": {
    "kernelspec": {
      "display_name": "Python 3",
      "language": "python",
      "name": "python3"
    },
    "language_info": {
      "codemirror_mode": {
        "name": "ipython",
        "version": 3
      },
      "file_extension": ".py",
      "mimetype": "text/x-python",
      "name": "python",
      "nbconvert_exporter": "python",
      "pygments_lexer": "ipython3",
      "version": "3.7.6"
    },
    "colab": {
      "name": "Untitled.ipynb",
      "provenance": [],
      "include_colab_link": true
    }
  },
  "cells": [
    {
      "cell_type": "markdown",
      "metadata": {
        "id": "view-in-github",
        "colab_type": "text"
      },
      "source": [
        "<a href=\"https://colab.research.google.com/github/gullayeshwantkumarruler/18cse167DMDW/blob/main/Untitled.ipynb\" target=\"_parent\"><img src=\"https://colab.research.google.com/assets/colab-badge.svg\" alt=\"Open In Colab\"/></a>"
      ]
    },
    {
      "cell_type": "code",
      "metadata": {
        "id": "iOMzed3nZlX2"
      },
      "source": [
        "import numpy as np # linear algebra\n",
        "import pandas as pd # df processing, CSV file I/O (e.g. pd.read_csv)\n",
        "import seaborn as sns\n",
        "from sklearn.metrics import confusion_matrix, accuracy_score\n",
        "import matplotlib.pyplot as plt\n",
        "%matplotlib inline\n",
        "\n",
        "import warnings\n",
        "warnings.filterwarnings(\"ignore\")"
      ],
      "execution_count": 141,
      "outputs": []
    },
    {
      "cell_type": "code",
      "metadata": {
        "id": "TTk_jQWvZlX-"
      },
      "source": [
        "df = pd.read_csv('/content/Loan_payments_data.csv')"
      ],
      "execution_count": 142,
      "outputs": []
    },
    {
      "cell_type": "code",
      "metadata": {
        "id": "CQ6yswjEZvu5"
      },
      "source": [
        "# from google.colab import drive\n",
        "# drive.mount('/content/drive')"
      ],
      "execution_count": 143,
      "outputs": []
    },
    {
      "cell_type": "code",
      "metadata": {
        "colab": {
          "base_uri": "https://localhost:8080/",
          "height": 203
        },
        "id": "nxC2rZyBZlYB",
        "outputId": "f64cde95-e564-45f7-ff65-19a22b91bdf8"
      },
      "source": [
        "df.head()"
      ],
      "execution_count": 144,
      "outputs": [
        {
          "output_type": "execute_result",
          "data": {
            "text/html": [
              "<div>\n",
              "<style scoped>\n",
              "    .dataframe tbody tr th:only-of-type {\n",
              "        vertical-align: middle;\n",
              "    }\n",
              "\n",
              "    .dataframe tbody tr th {\n",
              "        vertical-align: top;\n",
              "    }\n",
              "\n",
              "    .dataframe thead th {\n",
              "        text-align: right;\n",
              "    }\n",
              "</style>\n",
              "<table border=\"1\" class=\"dataframe\">\n",
              "  <thead>\n",
              "    <tr style=\"text-align: right;\">\n",
              "      <th></th>\n",
              "      <th>Loan_ID</th>\n",
              "      <th>loan_status</th>\n",
              "      <th>Principal</th>\n",
              "      <th>terms</th>\n",
              "      <th>effective_date</th>\n",
              "      <th>due_date</th>\n",
              "      <th>paid_off_time</th>\n",
              "      <th>past_due_days</th>\n",
              "      <th>age</th>\n",
              "      <th>education</th>\n",
              "      <th>Gender</th>\n",
              "    </tr>\n",
              "  </thead>\n",
              "  <tbody>\n",
              "    <tr>\n",
              "      <th>0</th>\n",
              "      <td>xqd20166231</td>\n",
              "      <td>PAIDOFF</td>\n",
              "      <td>1000</td>\n",
              "      <td>30</td>\n",
              "      <td>9/8/2016</td>\n",
              "      <td>10/7/2016</td>\n",
              "      <td>9/14/2016 19:31</td>\n",
              "      <td>NaN</td>\n",
              "      <td>45</td>\n",
              "      <td>High School or Below</td>\n",
              "      <td>male</td>\n",
              "    </tr>\n",
              "    <tr>\n",
              "      <th>1</th>\n",
              "      <td>xqd20168902</td>\n",
              "      <td>PAIDOFF</td>\n",
              "      <td>1000</td>\n",
              "      <td>30</td>\n",
              "      <td>9/8/2016</td>\n",
              "      <td>10/7/2016</td>\n",
              "      <td>10/7/2016 9:00</td>\n",
              "      <td>NaN</td>\n",
              "      <td>50</td>\n",
              "      <td>Bechalor</td>\n",
              "      <td>female</td>\n",
              "    </tr>\n",
              "    <tr>\n",
              "      <th>2</th>\n",
              "      <td>xqd20160003</td>\n",
              "      <td>PAIDOFF</td>\n",
              "      <td>1000</td>\n",
              "      <td>30</td>\n",
              "      <td>9/8/2016</td>\n",
              "      <td>10/7/2016</td>\n",
              "      <td>9/25/2016 16:58</td>\n",
              "      <td>NaN</td>\n",
              "      <td>33</td>\n",
              "      <td>Bechalor</td>\n",
              "      <td>female</td>\n",
              "    </tr>\n",
              "    <tr>\n",
              "      <th>3</th>\n",
              "      <td>xqd20160004</td>\n",
              "      <td>PAIDOFF</td>\n",
              "      <td>1000</td>\n",
              "      <td>15</td>\n",
              "      <td>9/8/2016</td>\n",
              "      <td>9/22/2016</td>\n",
              "      <td>9/22/2016 20:00</td>\n",
              "      <td>NaN</td>\n",
              "      <td>27</td>\n",
              "      <td>college</td>\n",
              "      <td>male</td>\n",
              "    </tr>\n",
              "    <tr>\n",
              "      <th>4</th>\n",
              "      <td>xqd20160005</td>\n",
              "      <td>PAIDOFF</td>\n",
              "      <td>1000</td>\n",
              "      <td>30</td>\n",
              "      <td>9/9/2016</td>\n",
              "      <td>10/8/2016</td>\n",
              "      <td>9/23/2016 21:36</td>\n",
              "      <td>NaN</td>\n",
              "      <td>28</td>\n",
              "      <td>college</td>\n",
              "      <td>female</td>\n",
              "    </tr>\n",
              "  </tbody>\n",
              "</table>\n",
              "</div>"
            ],
            "text/plain": [
              "       Loan_ID loan_status  Principal  ...  age             education  Gender\n",
              "0  xqd20166231     PAIDOFF       1000  ...   45  High School or Below    male\n",
              "1  xqd20168902     PAIDOFF       1000  ...   50              Bechalor  female\n",
              "2  xqd20160003     PAIDOFF       1000  ...   33              Bechalor  female\n",
              "3  xqd20160004     PAIDOFF       1000  ...   27               college    male\n",
              "4  xqd20160005     PAIDOFF       1000  ...   28               college  female\n",
              "\n",
              "[5 rows x 11 columns]"
            ]
          },
          "metadata": {},
          "execution_count": 144
        }
      ]
    },
    {
      "cell_type": "code",
      "metadata": {
        "colab": {
          "base_uri": "https://localhost:8080/"
        },
        "id": "nNPylYqCZlYE",
        "outputId": "9e984197-3433-4056-f601-32944b6303bb"
      },
      "source": [
        "df.isna().sum()"
      ],
      "execution_count": 145,
      "outputs": [
        {
          "output_type": "execute_result",
          "data": {
            "text/plain": [
              "Loan_ID             0\n",
              "loan_status         0\n",
              "Principal           0\n",
              "terms               0\n",
              "effective_date      0\n",
              "due_date            0\n",
              "paid_off_time     100\n",
              "past_due_days     300\n",
              "age                 0\n",
              "education           0\n",
              "Gender              0\n",
              "dtype: int64"
            ]
          },
          "metadata": {},
          "execution_count": 145
        }
      ]
    },
    {
      "cell_type": "code",
      "metadata": {
        "id": "jsC5BJMzZlYG"
      },
      "source": [
        "df.drop(['effective_date','due_date','paid_off_time','past_due_days'],axis='columns',inplace=True)"
      ],
      "execution_count": 146,
      "outputs": []
    },
    {
      "cell_type": "code",
      "metadata": {
        "id": "MW0CQIudZlYH"
      },
      "source": [
        "df.drop('Loan_ID',axis='columns',inplace=True)"
      ],
      "execution_count": 147,
      "outputs": []
    },
    {
      "cell_type": "code",
      "metadata": {
        "colab": {
          "base_uri": "https://localhost:8080/",
          "height": 203
        },
        "id": "EYqa62V6ZlYJ",
        "outputId": "8d0d99e5-cf8b-4d35-dc6e-5ef298918112"
      },
      "source": [
        "df.head()"
      ],
      "execution_count": 148,
      "outputs": [
        {
          "output_type": "execute_result",
          "data": {
            "text/html": [
              "<div>\n",
              "<style scoped>\n",
              "    .dataframe tbody tr th:only-of-type {\n",
              "        vertical-align: middle;\n",
              "    }\n",
              "\n",
              "    .dataframe tbody tr th {\n",
              "        vertical-align: top;\n",
              "    }\n",
              "\n",
              "    .dataframe thead th {\n",
              "        text-align: right;\n",
              "    }\n",
              "</style>\n",
              "<table border=\"1\" class=\"dataframe\">\n",
              "  <thead>\n",
              "    <tr style=\"text-align: right;\">\n",
              "      <th></th>\n",
              "      <th>loan_status</th>\n",
              "      <th>Principal</th>\n",
              "      <th>terms</th>\n",
              "      <th>age</th>\n",
              "      <th>education</th>\n",
              "      <th>Gender</th>\n",
              "    </tr>\n",
              "  </thead>\n",
              "  <tbody>\n",
              "    <tr>\n",
              "      <th>0</th>\n",
              "      <td>PAIDOFF</td>\n",
              "      <td>1000</td>\n",
              "      <td>30</td>\n",
              "      <td>45</td>\n",
              "      <td>High School or Below</td>\n",
              "      <td>male</td>\n",
              "    </tr>\n",
              "    <tr>\n",
              "      <th>1</th>\n",
              "      <td>PAIDOFF</td>\n",
              "      <td>1000</td>\n",
              "      <td>30</td>\n",
              "      <td>50</td>\n",
              "      <td>Bechalor</td>\n",
              "      <td>female</td>\n",
              "    </tr>\n",
              "    <tr>\n",
              "      <th>2</th>\n",
              "      <td>PAIDOFF</td>\n",
              "      <td>1000</td>\n",
              "      <td>30</td>\n",
              "      <td>33</td>\n",
              "      <td>Bechalor</td>\n",
              "      <td>female</td>\n",
              "    </tr>\n",
              "    <tr>\n",
              "      <th>3</th>\n",
              "      <td>PAIDOFF</td>\n",
              "      <td>1000</td>\n",
              "      <td>15</td>\n",
              "      <td>27</td>\n",
              "      <td>college</td>\n",
              "      <td>male</td>\n",
              "    </tr>\n",
              "    <tr>\n",
              "      <th>4</th>\n",
              "      <td>PAIDOFF</td>\n",
              "      <td>1000</td>\n",
              "      <td>30</td>\n",
              "      <td>28</td>\n",
              "      <td>college</td>\n",
              "      <td>female</td>\n",
              "    </tr>\n",
              "  </tbody>\n",
              "</table>\n",
              "</div>"
            ],
            "text/plain": [
              "  loan_status  Principal  terms  age             education  Gender\n",
              "0     PAIDOFF       1000     30   45  High School or Below    male\n",
              "1     PAIDOFF       1000     30   50              Bechalor  female\n",
              "2     PAIDOFF       1000     30   33              Bechalor  female\n",
              "3     PAIDOFF       1000     15   27               college    male\n",
              "4     PAIDOFF       1000     30   28               college  female"
            ]
          },
          "metadata": {},
          "execution_count": 148
        }
      ]
    },
    {
      "cell_type": "code",
      "metadata": {
        "id": "HKI-4ICJZlYM"
      },
      "source": [
        "# df.Principal.values"
      ],
      "execution_count": 149,
      "outputs": []
    },
    {
      "cell_type": "code",
      "metadata": {
        "colab": {
          "base_uri": "https://localhost:8080/"
        },
        "id": "WcOF82TLZlYO",
        "outputId": "4ee41276-e296-49b9-bbf7-d93e25771f77"
      },
      "source": [
        "df['Principal'].value_counts()"
      ],
      "execution_count": 150,
      "outputs": [
        {
          "output_type": "execute_result",
          "data": {
            "text/plain": [
              "1000    377\n",
              "800     111\n",
              "300       6\n",
              "500       3\n",
              "900       2\n",
              "700       1\n",
              "Name: Principal, dtype: int64"
            ]
          },
          "metadata": {},
          "execution_count": 150
        }
      ]
    },
    {
      "cell_type": "code",
      "metadata": {
        "colab": {
          "base_uri": "https://localhost:8080/"
        },
        "id": "vNwYt8zZZlYS",
        "outputId": "b69e5171-1a5f-498c-a459-741c6e6fc62c"
      },
      "source": [
        "df['terms'].value_counts()"
      ],
      "execution_count": 151,
      "outputs": [
        {
          "output_type": "execute_result",
          "data": {
            "text/plain": [
              "30    272\n",
              "15    207\n",
              "7      21\n",
              "Name: terms, dtype: int64"
            ]
          },
          "metadata": {},
          "execution_count": 151
        }
      ]
    },
    {
      "cell_type": "code",
      "metadata": {
        "colab": {
          "base_uri": "https://localhost:8080/"
        },
        "id": "P0mTz6IVZlYT",
        "outputId": "a7920423-bc35-472d-d3ea-a1caee4c21fc"
      },
      "source": [
        "\n",
        "df2 = pd.get_dummies(data=df, columns=['education','Gender','terms'])\n",
        "df2.columns"
      ],
      "execution_count": 152,
      "outputs": [
        {
          "output_type": "execute_result",
          "data": {
            "text/plain": [
              "Index(['loan_status', 'Principal', 'age', 'education_Bechalor',\n",
              "       'education_High School or Below', 'education_Master or Above',\n",
              "       'education_college', 'Gender_female', 'Gender_male', 'terms_7',\n",
              "       'terms_15', 'terms_30'],\n",
              "      dtype='object')"
            ]
          },
          "metadata": {},
          "execution_count": 152
        }
      ]
    },
    {
      "cell_type": "code",
      "metadata": {
        "colab": {
          "base_uri": "https://localhost:8080/",
          "height": 257
        },
        "id": "OnGxHY_ZZlYU",
        "outputId": "31dd0081-a6d5-4565-cb39-873d391673d6"
      },
      "source": [
        "df2.head()"
      ],
      "execution_count": 153,
      "outputs": [
        {
          "output_type": "execute_result",
          "data": {
            "text/html": [
              "<div>\n",
              "<style scoped>\n",
              "    .dataframe tbody tr th:only-of-type {\n",
              "        vertical-align: middle;\n",
              "    }\n",
              "\n",
              "    .dataframe tbody tr th {\n",
              "        vertical-align: top;\n",
              "    }\n",
              "\n",
              "    .dataframe thead th {\n",
              "        text-align: right;\n",
              "    }\n",
              "</style>\n",
              "<table border=\"1\" class=\"dataframe\">\n",
              "  <thead>\n",
              "    <tr style=\"text-align: right;\">\n",
              "      <th></th>\n",
              "      <th>loan_status</th>\n",
              "      <th>Principal</th>\n",
              "      <th>age</th>\n",
              "      <th>education_Bechalor</th>\n",
              "      <th>education_High School or Below</th>\n",
              "      <th>education_Master or Above</th>\n",
              "      <th>education_college</th>\n",
              "      <th>Gender_female</th>\n",
              "      <th>Gender_male</th>\n",
              "      <th>terms_7</th>\n",
              "      <th>terms_15</th>\n",
              "      <th>terms_30</th>\n",
              "    </tr>\n",
              "  </thead>\n",
              "  <tbody>\n",
              "    <tr>\n",
              "      <th>0</th>\n",
              "      <td>PAIDOFF</td>\n",
              "      <td>1000</td>\n",
              "      <td>45</td>\n",
              "      <td>0</td>\n",
              "      <td>1</td>\n",
              "      <td>0</td>\n",
              "      <td>0</td>\n",
              "      <td>0</td>\n",
              "      <td>1</td>\n",
              "      <td>0</td>\n",
              "      <td>0</td>\n",
              "      <td>1</td>\n",
              "    </tr>\n",
              "    <tr>\n",
              "      <th>1</th>\n",
              "      <td>PAIDOFF</td>\n",
              "      <td>1000</td>\n",
              "      <td>50</td>\n",
              "      <td>1</td>\n",
              "      <td>0</td>\n",
              "      <td>0</td>\n",
              "      <td>0</td>\n",
              "      <td>1</td>\n",
              "      <td>0</td>\n",
              "      <td>0</td>\n",
              "      <td>0</td>\n",
              "      <td>1</td>\n",
              "    </tr>\n",
              "    <tr>\n",
              "      <th>2</th>\n",
              "      <td>PAIDOFF</td>\n",
              "      <td>1000</td>\n",
              "      <td>33</td>\n",
              "      <td>1</td>\n",
              "      <td>0</td>\n",
              "      <td>0</td>\n",
              "      <td>0</td>\n",
              "      <td>1</td>\n",
              "      <td>0</td>\n",
              "      <td>0</td>\n",
              "      <td>0</td>\n",
              "      <td>1</td>\n",
              "    </tr>\n",
              "    <tr>\n",
              "      <th>3</th>\n",
              "      <td>PAIDOFF</td>\n",
              "      <td>1000</td>\n",
              "      <td>27</td>\n",
              "      <td>0</td>\n",
              "      <td>0</td>\n",
              "      <td>0</td>\n",
              "      <td>1</td>\n",
              "      <td>0</td>\n",
              "      <td>1</td>\n",
              "      <td>0</td>\n",
              "      <td>1</td>\n",
              "      <td>0</td>\n",
              "    </tr>\n",
              "    <tr>\n",
              "      <th>4</th>\n",
              "      <td>PAIDOFF</td>\n",
              "      <td>1000</td>\n",
              "      <td>28</td>\n",
              "      <td>0</td>\n",
              "      <td>0</td>\n",
              "      <td>0</td>\n",
              "      <td>1</td>\n",
              "      <td>1</td>\n",
              "      <td>0</td>\n",
              "      <td>0</td>\n",
              "      <td>0</td>\n",
              "      <td>1</td>\n",
              "    </tr>\n",
              "  </tbody>\n",
              "</table>\n",
              "</div>"
            ],
            "text/plain": [
              "  loan_status  Principal  age  ...  terms_7  terms_15  terms_30\n",
              "0     PAIDOFF       1000   45  ...        0         0         1\n",
              "1     PAIDOFF       1000   50  ...        0         0         1\n",
              "2     PAIDOFF       1000   33  ...        0         0         1\n",
              "3     PAIDOFF       1000   27  ...        0         1         0\n",
              "4     PAIDOFF       1000   28  ...        0         0         1\n",
              "\n",
              "[5 rows x 12 columns]"
            ]
          },
          "metadata": {},
          "execution_count": 153
        }
      ]
    },
    {
      "cell_type": "code",
      "metadata": {
        "id": "1EFDJCyKZlYW"
      },
      "source": [
        ""
      ],
      "execution_count": 153,
      "outputs": []
    },
    {
      "cell_type": "code",
      "metadata": {
        "colab": {
          "base_uri": "https://localhost:8080/",
          "height": 257
        },
        "id": "QSaFV_qLZlYX",
        "outputId": "e6cffde8-f3f0-45d4-ede0-31f7409d016c"
      },
      "source": [
        "df2.head()"
      ],
      "execution_count": 154,
      "outputs": [
        {
          "output_type": "execute_result",
          "data": {
            "text/html": [
              "<div>\n",
              "<style scoped>\n",
              "    .dataframe tbody tr th:only-of-type {\n",
              "        vertical-align: middle;\n",
              "    }\n",
              "\n",
              "    .dataframe tbody tr th {\n",
              "        vertical-align: top;\n",
              "    }\n",
              "\n",
              "    .dataframe thead th {\n",
              "        text-align: right;\n",
              "    }\n",
              "</style>\n",
              "<table border=\"1\" class=\"dataframe\">\n",
              "  <thead>\n",
              "    <tr style=\"text-align: right;\">\n",
              "      <th></th>\n",
              "      <th>loan_status</th>\n",
              "      <th>Principal</th>\n",
              "      <th>age</th>\n",
              "      <th>education_Bechalor</th>\n",
              "      <th>education_High School or Below</th>\n",
              "      <th>education_Master or Above</th>\n",
              "      <th>education_college</th>\n",
              "      <th>Gender_female</th>\n",
              "      <th>Gender_male</th>\n",
              "      <th>terms_7</th>\n",
              "      <th>terms_15</th>\n",
              "      <th>terms_30</th>\n",
              "    </tr>\n",
              "  </thead>\n",
              "  <tbody>\n",
              "    <tr>\n",
              "      <th>0</th>\n",
              "      <td>PAIDOFF</td>\n",
              "      <td>1000</td>\n",
              "      <td>45</td>\n",
              "      <td>0</td>\n",
              "      <td>1</td>\n",
              "      <td>0</td>\n",
              "      <td>0</td>\n",
              "      <td>0</td>\n",
              "      <td>1</td>\n",
              "      <td>0</td>\n",
              "      <td>0</td>\n",
              "      <td>1</td>\n",
              "    </tr>\n",
              "    <tr>\n",
              "      <th>1</th>\n",
              "      <td>PAIDOFF</td>\n",
              "      <td>1000</td>\n",
              "      <td>50</td>\n",
              "      <td>1</td>\n",
              "      <td>0</td>\n",
              "      <td>0</td>\n",
              "      <td>0</td>\n",
              "      <td>1</td>\n",
              "      <td>0</td>\n",
              "      <td>0</td>\n",
              "      <td>0</td>\n",
              "      <td>1</td>\n",
              "    </tr>\n",
              "    <tr>\n",
              "      <th>2</th>\n",
              "      <td>PAIDOFF</td>\n",
              "      <td>1000</td>\n",
              "      <td>33</td>\n",
              "      <td>1</td>\n",
              "      <td>0</td>\n",
              "      <td>0</td>\n",
              "      <td>0</td>\n",
              "      <td>1</td>\n",
              "      <td>0</td>\n",
              "      <td>0</td>\n",
              "      <td>0</td>\n",
              "      <td>1</td>\n",
              "    </tr>\n",
              "    <tr>\n",
              "      <th>3</th>\n",
              "      <td>PAIDOFF</td>\n",
              "      <td>1000</td>\n",
              "      <td>27</td>\n",
              "      <td>0</td>\n",
              "      <td>0</td>\n",
              "      <td>0</td>\n",
              "      <td>1</td>\n",
              "      <td>0</td>\n",
              "      <td>1</td>\n",
              "      <td>0</td>\n",
              "      <td>1</td>\n",
              "      <td>0</td>\n",
              "    </tr>\n",
              "    <tr>\n",
              "      <th>4</th>\n",
              "      <td>PAIDOFF</td>\n",
              "      <td>1000</td>\n",
              "      <td>28</td>\n",
              "      <td>0</td>\n",
              "      <td>0</td>\n",
              "      <td>0</td>\n",
              "      <td>1</td>\n",
              "      <td>1</td>\n",
              "      <td>0</td>\n",
              "      <td>0</td>\n",
              "      <td>0</td>\n",
              "      <td>1</td>\n",
              "    </tr>\n",
              "  </tbody>\n",
              "</table>\n",
              "</div>"
            ],
            "text/plain": [
              "  loan_status  Principal  age  ...  terms_7  terms_15  terms_30\n",
              "0     PAIDOFF       1000   45  ...        0         0         1\n",
              "1     PAIDOFF       1000   50  ...        0         0         1\n",
              "2     PAIDOFF       1000   33  ...        0         0         1\n",
              "3     PAIDOFF       1000   27  ...        0         1         0\n",
              "4     PAIDOFF       1000   28  ...        0         0         1\n",
              "\n",
              "[5 rows x 12 columns]"
            ]
          },
          "metadata": {},
          "execution_count": 154
        }
      ]
    },
    {
      "cell_type": "code",
      "metadata": {
        "colab": {
          "base_uri": "https://localhost:8080/"
        },
        "id": "J1EsChkQaXUS",
        "outputId": "b865f4d6-2cb7-4327-c539-5d3cc4404690"
      },
      "source": [
        "df2['loan_status'].value_counts()"
      ],
      "execution_count": 155,
      "outputs": [
        {
          "output_type": "execute_result",
          "data": {
            "text/plain": [
              "PAIDOFF               300\n",
              "COLLECTION            100\n",
              "COLLECTION_PAIDOFF    100\n",
              "Name: loan_status, dtype: int64"
            ]
          },
          "metadata": {},
          "execution_count": 155
        }
      ]
    },
    {
      "cell_type": "code",
      "metadata": {
        "id": "7gzjINKGZlYZ"
      },
      "source": [
        "df2['loan_status'].replace({'PAIDOFF':0,'COLLECTION_PAIDOFF':1,'COLLECTION':2},inplace=True)"
      ],
      "execution_count": 156,
      "outputs": []
    },
    {
      "cell_type": "code",
      "metadata": {
        "id": "UJ16qgzeeotk"
      },
      "source": [
        "# y_train.head()"
      ],
      "execution_count": 157,
      "outputs": []
    },
    {
      "cell_type": "code",
      "metadata": {
        "id": "a1EfBL-DZlYa"
      },
      "source": [
        "X = df2.drop('loan_status',axis='columns')\n",
        "y = df2['loan_status']\n",
        "\n",
        "from sklearn.model_selection import train_test_split\n",
        "X_train, X_test, y_train, y_test = train_test_split(X,y,test_size=0.2,random_state=5)"
      ],
      "execution_count": 158,
      "outputs": []
    },
    {
      "cell_type": "code",
      "metadata": {
        "colab": {
          "base_uri": "https://localhost:8080/"
        },
        "id": "9-h5c_ZUataz",
        "outputId": "8158ee7f-2b67-4bf6-ec47-10e080c1273c"
      },
      "source": [
        "X_train.shape"
      ],
      "execution_count": 159,
      "outputs": [
        {
          "output_type": "execute_result",
          "data": {
            "text/plain": [
              "(400, 11)"
            ]
          },
          "metadata": {},
          "execution_count": 159
        }
      ]
    },
    {
      "cell_type": "code",
      "metadata": {
        "id": "af6yJg7MjHjv"
      },
      "source": [
        "from tensorflow import keras"
      ],
      "execution_count": 160,
      "outputs": []
    },
    {
      "cell_type": "code",
      "metadata": {
        "id": "lqQW7y_re9lU"
      },
      "source": [
        "y_train = keras.utils.to_categorical(y_train, 3)\n",
        "y_test = keras.utils.to_categorical(y_test, 3)"
      ],
      "execution_count": 161,
      "outputs": []
    },
    {
      "cell_type": "code",
      "metadata": {
        "colab": {
          "base_uri": "https://localhost:8080/"
        },
        "id": "eywpY0sTfGQI",
        "outputId": "ffbbafdd-ab3e-4deb-8c7d-7f8d36045418"
      },
      "source": [
        "X_train.dtypes"
      ],
      "execution_count": 162,
      "outputs": [
        {
          "output_type": "execute_result",
          "data": {
            "text/plain": [
              "Principal                         int64\n",
              "age                               int64\n",
              "education_Bechalor                uint8\n",
              "education_High School or Below    uint8\n",
              "education_Master or Above         uint8\n",
              "education_college                 uint8\n",
              "Gender_female                     uint8\n",
              "Gender_male                       uint8\n",
              "terms_7                           uint8\n",
              "terms_15                          uint8\n",
              "terms_30                          uint8\n",
              "dtype: object"
            ]
          },
          "metadata": {},
          "execution_count": 162
        }
      ]
    },
    {
      "cell_type": "code",
      "metadata": {
        "id": "71N7mi3zo-0I"
      },
      "source": [
        "from sklearn.preprocessing import StandardScaler\n",
        "\n",
        "# Define the scaler \n",
        "scaler = StandardScaler().fit(X_train)\n",
        "\n",
        "# Scale the train set\n",
        "X_train = scaler.transform(X_train)\n",
        "\n",
        "# Scale the test set\n",
        "X_test = scaler.transform(X_test)"
      ],
      "execution_count": 163,
      "outputs": []
    },
    {
      "cell_type": "code",
      "metadata": {
        "id": "aw5pwzFbmaoR",
        "outputId": "0a54321a-9146-4e90-893c-4f540d8604cd",
        "colab": {
          "base_uri": "https://localhost:8080/"
        }
      },
      "source": [
        "X_train.shape\n",
        "# y_train.shape"
      ],
      "execution_count": 164,
      "outputs": [
        {
          "output_type": "execute_result",
          "data": {
            "text/plain": [
              "(400, 11)"
            ]
          },
          "metadata": {},
          "execution_count": 164
        }
      ]
    },
    {
      "cell_type": "code",
      "metadata": {
        "colab": {
          "base_uri": "https://localhost:8080/"
        },
        "id": "ViJ8w5uXZlYb",
        "outputId": "f2eb16e4-a2b1-4761-a92c-807cac40a8cd"
      },
      "source": [
        "import tensorflow as tf\n",
        "from tensorflow import keras\n",
        "\n",
        "\n",
        "model = keras.Sequential([\n",
        "    keras.layers.Dense(11, input_shape=(11,), activation='relu'),\n",
        "    keras.layers.Dense(6, activation='relu'),\n",
        "    keras.layers.Dense(4, activation='relu'),\n",
        "    keras.layers.Dense(3,activation='softmax')\n",
        "])\n",
        "\n",
        "# opt = keras.optimizers.Adam(learning_rate=0.01)\n",
        "\n",
        "model.compile(optimizer='adam',\n",
        "              loss='categorical_crossentropy',\n",
        "              metrics=['accuracy'])\n",
        "\n",
        "model.fit(X_train, y_train, epochs=20)"
      ],
      "execution_count": 165,
      "outputs": [
        {
          "output_type": "stream",
          "text": [
            "Epoch 1/20\n",
            "13/13 [==============================] - 0s 2ms/step - loss: 1.0143 - accuracy: 0.6025\n",
            "Epoch 2/20\n",
            "13/13 [==============================] - 0s 2ms/step - loss: 0.9954 - accuracy: 0.6025\n",
            "Epoch 3/20\n",
            "13/13 [==============================] - 0s 2ms/step - loss: 0.9828 - accuracy: 0.6025\n",
            "Epoch 4/20\n",
            "13/13 [==============================] - 0s 2ms/step - loss: 0.9719 - accuracy: 0.6025\n",
            "Epoch 5/20\n",
            "13/13 [==============================] - 0s 2ms/step - loss: 0.9637 - accuracy: 0.6025\n",
            "Epoch 6/20\n",
            "13/13 [==============================] - 0s 2ms/step - loss: 0.9572 - accuracy: 0.6025\n",
            "Epoch 7/20\n",
            "13/13 [==============================] - 0s 2ms/step - loss: 0.9513 - accuracy: 0.6025\n",
            "Epoch 8/20\n",
            "13/13 [==============================] - 0s 2ms/step - loss: 0.9465 - accuracy: 0.6025\n",
            "Epoch 9/20\n",
            "13/13 [==============================] - 0s 2ms/step - loss: 0.9434 - accuracy: 0.6025\n",
            "Epoch 10/20\n",
            "13/13 [==============================] - 0s 2ms/step - loss: 0.9404 - accuracy: 0.6025\n",
            "Epoch 11/20\n",
            "13/13 [==============================] - 0s 2ms/step - loss: 0.9375 - accuracy: 0.6025\n",
            "Epoch 12/20\n",
            "13/13 [==============================] - 0s 2ms/step - loss: 0.9350 - accuracy: 0.6025\n",
            "Epoch 13/20\n",
            "13/13 [==============================] - 0s 2ms/step - loss: 0.9331 - accuracy: 0.6025\n",
            "Epoch 14/20\n",
            "13/13 [==============================] - 0s 2ms/step - loss: 0.9305 - accuracy: 0.6025\n",
            "Epoch 15/20\n",
            "13/13 [==============================] - 0s 2ms/step - loss: 0.9289 - accuracy: 0.6025\n",
            "Epoch 16/20\n",
            "13/13 [==============================] - 0s 2ms/step - loss: 0.9269 - accuracy: 0.6025\n",
            "Epoch 17/20\n",
            "13/13 [==============================] - 0s 2ms/step - loss: 0.9260 - accuracy: 0.6025\n",
            "Epoch 18/20\n",
            "13/13 [==============================] - 0s 2ms/step - loss: 0.9243 - accuracy: 0.6025\n",
            "Epoch 19/20\n",
            "13/13 [==============================] - 0s 2ms/step - loss: 0.9225 - accuracy: 0.6025\n",
            "Epoch 20/20\n",
            "13/13 [==============================] - 0s 2ms/step - loss: 0.9207 - accuracy: 0.6025\n"
          ],
          "name": "stdout"
        },
        {
          "output_type": "execute_result",
          "data": {
            "text/plain": [
              "<keras.callbacks.History at 0x7f8b2b404f10>"
            ]
          },
          "metadata": {},
          "execution_count": 165
        }
      ]
    },
    {
      "cell_type": "code",
      "metadata": {
        "id": "CLXYt94QZlYc"
      },
      "source": [
        "# !pip install tensorflow"
      ],
      "execution_count": 166,
      "outputs": []
    },
    {
      "cell_type": "code",
      "metadata": {
        "id": "d2Pu8zKhZlYc"
      },
      "source": [
        ""
      ],
      "execution_count": 166,
      "outputs": []
    }
  ]
}